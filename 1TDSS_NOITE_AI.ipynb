{
  "nbformat": 4,
  "nbformat_minor": 0,
  "metadata": {
    "colab": {
      "name": "1TDSS-NOITE_AI.ipynb",
      "provenance": [],
      "authorship_tag": "ABX9TyPSyHzhddjnu8X64ecqCUAN",
      "include_colab_link": true
    },
    "kernelspec": {
      "name": "python3",
      "display_name": "Python 3"
    },
    "language_info": {
      "name": "python"
    }
  },
  "cells": [
    {
      "cell_type": "markdown",
      "metadata": {
        "id": "view-in-github",
        "colab_type": "text"
      },
      "source": [
        "<a href=\"https://colab.research.google.com/github/Danigol13/Exemplo-git/blob/main/1TDSS_NOITE_AI.ipynb\" target=\"_parent\"><img src=\"https://colab.research.google.com/assets/colab-badge.svg\" alt=\"Open In Colab\"/></a>"
      ]
    },
    {
      "cell_type": "markdown",
      "metadata": {
        "id": "qTGZ-Y3FUxQ4"
      },
      "source": [
        "**Introdução ao Numpy**\n",
        "\n",
        "Na aula de hoje veremos como trabalhar com as funções do *Numpy*\n"
      ]
    },
    {
      "cell_type": "code",
      "metadata": {
        "colab": {
          "base_uri": "https://localhost:8080/"
        },
        "id": "xVGFrPmeV5WE",
        "outputId": "2e5dc387-310b-477a-a162-a117b6e71987"
      },
      "source": [
        "import numpy as np\n",
        "np.arange(10)"
      ],
      "execution_count": 2,
      "outputs": [
        {
          "output_type": "execute_result",
          "data": {
            "text/plain": [
              "array([0, 1, 2, 3, 4, 5, 6, 7, 8, 9])"
            ]
          },
          "metadata": {
            "tags": []
          },
          "execution_count": 2
        }
      ]
    },
    {
      "cell_type": "code",
      "metadata": {
        "colab": {
          "base_uri": "https://localhost:8080/"
        },
        "id": "8s2mt5R2WxbW",
        "outputId": "a60f095e-c26b-4c41-b787-fb96438943bb"
      },
      "source": [
        "kms = np.loadtxt(fname='carros-km.txt',dtype=int)\n",
        "kms"
      ],
      "execution_count": 5,
      "outputs": [
        {
          "output_type": "execute_result",
          "data": {
            "text/plain": [
              "array([ 44410,   5712,  37123,      0,  25757,  10728,      0,  77599,\n",
              "        99197,  37978,  12859,   8052,  89773,      0,  41457, 115607,\n",
              "        46449,      0,  37086,  15173, 101193,      0,  98079, 102959,\n",
              "            0,      0,   5795,      0,  58848,  94381,  30163,  53332,\n",
              "        17720,  33808,  90684,  43975,      0,      0,   5526,      0,\n",
              "        93415,  40762,      0,  86302,      0,   9755,  69945,   2395,\n",
              "            0,  80349,  85554,  50496,  67716,  93947,  35345,  81007,\n",
              "       119513,      0,      0,      0,      0,      0, 118895,  48509,\n",
              "       100912,  95649,      0,  90495,      0,  29132,  23802,  84992,\n",
              "        54395,  26731,  44329, 118236, 113808,    610,      0,      0,\n",
              "        12887,  79607,  90924,  42733,      0,      0, 117714, 113885,\n",
              "            0,  30511,  74867, 119760,   8356,  64247,  88661,   4539,\n",
              "       110116,  33215,  92001,      0,  81708,  70641,      0,  91277,\n",
              "        26544,  52596,  47503,  89056,  28834, 110564,  56638,  17357,\n",
              "        74015,  15196,      0,  10821,      0,      0,   9595,  99052,\n",
              "        52389, 119945,  96005,  31639,      0,  80187,      0,  58212,\n",
              "        61672,  32017,      0,  56944,      0,  86519,   4821, 101025,\n",
              "        30705,      0,  32555, 103389,      0,  55289,      0,      0,\n",
              "       115930,  66437,  96800,  14237,  19896, 113045, 114942,   3173,\n",
              "        83611,  25356,  88634,   2314,   2627,  52034,      0,      0,\n",
              "        79577, 108201,  76453,  57683,  96610, 109001,  26212,  45971,\n",
              "        49182,  49907,  38620,  60996,  73914, 107392,   9146,      0,\n",
              "        17924,      0, 116949,  20476,  52804,   8849,  91724,  32056,\n",
              "        74886,      0,      0,  52189,  83559,      0,  20328,      0,\n",
              "        75577,  33659, 104341,  25510,  18965,  87161,   6652,  55738,\n",
              "            0,      0,      0,  64320,      0,  68678,  71697,      0,\n",
              "        34783,  33772,  85127,  13606,  35647,  95128,  14046,  41194,\n",
              "            0,  96100, 103900,  43814,  24638,      0, 110966,  15987,\n",
              "        53369,  10077,  71544,    107,   8394,  41498, 116002, 100858,\n",
              "        67475,   8497,   4420,      0,  58537,      0,      0, 112016,\n",
              "        91840, 112787,      0,      0,   9293,      0,  55083,  48796,\n",
              "            0,  89685,  85384,  98108,  71280,  27505,  29981,  52637,\n",
              "         7685,  50188])"
            ]
          },
          "metadata": {
            "tags": []
          },
          "execution_count": 5
        }
      ]
    },
    {
      "cell_type": "code",
      "metadata": {
        "colab": {
          "base_uri": "https://localhost:8080/"
        },
        "id": "BrmQfYWZZQ-m",
        "outputId": "e0dc9a2a-19cf-49f8-b33b-1278ac78f13f"
      },
      "source": [
        "kms.dtype"
      ],
      "execution_count": 7,
      "outputs": [
        {
          "output_type": "execute_result",
          "data": {
            "text/plain": [
              "dtype('int64')"
            ]
          },
          "metadata": {
            "tags": []
          },
          "execution_count": 7
        }
      ]
    },
    {
      "cell_type": "code",
      "metadata": {
        "colab": {
          "base_uri": "https://localhost:8080/"
        },
        "id": "CUD1GxGmZUtW",
        "outputId": "ff5f9860-1b4f-489f-8fc4-b3260a1d074f"
      },
      "source": [
        "kms.shape"
      ],
      "execution_count": 8,
      "outputs": [
        {
          "output_type": "execute_result",
          "data": {
            "text/plain": [
              "(258,)"
            ]
          },
          "metadata": {
            "tags": []
          },
          "execution_count": 8
        }
      ]
    },
    {
      "cell_type": "code",
      "metadata": {
        "colab": {
          "base_uri": "https://localhost:8080/"
        },
        "id": "hRSHo8ccaSZq",
        "outputId": "978ad2c4-bc49-415d-b5f5-c8c4581e12f8"
      },
      "source": [
        "\n",
        "carro1 = ['Rodas de liga', 'Travas elétricas', 'Piloto automático', 'Bancos de couro', 'Ar condicionado', 'Sensor de estacionamento', 'Sensor crepuscular', 'Sensor de chuva'],\n",
        "carro2 = ['Central multimídia', 'Teto panorâmico', 'Freios ABS', '4 X 4', 'Painel digital', 'Piloto automático', 'Bancos de couro', 'Câmera de estacionamento'],\n",
        "carro3 = ['Piloto automático', 'Controle de estabilidade', 'Sensor crepuscular', 'Freios ABS', 'Câmbio automático', 'Bancos de couro', 'Central multimídia', 'Vidros elétricos']\n",
        "\n",
        "dados = [\n",
        "         carro1,\n",
        "         carro2,\n",
        "         carro3\n",
        "]\n",
        "\n",
        "dados"
      ],
      "execution_count": 15,
      "outputs": [
        {
          "output_type": "execute_result",
          "data": {
            "text/plain": [
              "[(['Rodas de liga',\n",
              "   'Travas elétricas',\n",
              "   'Piloto automático',\n",
              "   'Bancos de couro',\n",
              "   'Ar condicionado',\n",
              "   'Sensor de estacionamento',\n",
              "   'Sensor crepuscular',\n",
              "   'Sensor de chuva'],),\n",
              " (['Central multimídia',\n",
              "   'Teto panorâmico',\n",
              "   'Freios ABS',\n",
              "   '4 X 4',\n",
              "   'Painel digital',\n",
              "   'Piloto automático',\n",
              "   'Bancos de couro',\n",
              "   'Câmera de estacionamento'],),\n",
              " ['Piloto automático',\n",
              "  'Controle de estabilidade',\n",
              "  'Sensor crepuscular',\n",
              "  'Freios ABS',\n",
              "  'Câmbio automático',\n",
              "  'Bancos de couro',\n",
              "  'Central multimídia',\n",
              "  'Vidros elétricos']]"
            ]
          },
          "metadata": {
            "tags": []
          },
          "execution_count": 15
        }
      ]
    },
    {
      "cell_type": "code",
      "metadata": {
        "id": "FHQZM1N7cmrN"
      },
      "source": [
        ""
      ],
      "execution_count": null,
      "outputs": []
    },
    {
      "cell_type": "markdown",
      "metadata": {
        "id": "i8F_aOqUape-"
      },
      "source": [
        ""
      ]
    },
    {
      "cell_type": "code",
      "metadata": {
        "id": "BSZIez2HdIZc"
      },
      "source": [
        "np_array = np.arange(1000000)\n",
        "py_array = list(range(1000000))"
      ],
      "execution_count": 50,
      "outputs": []
    },
    {
      "cell_type": "code",
      "metadata": {
        "colab": {
          "base_uri": "https://localhost:8080/"
        },
        "id": "8yLMavKTdRxA",
        "outputId": "640cb593-cf25-44b2-8506-f78e5ad6a743"
      },
      "source": [
        "%time for _ in range(100): np_array *= 2"
      ],
      "execution_count": 20,
      "outputs": [
        {
          "output_type": "stream",
          "text": [
            "CPU times: user 59.8 ms, sys: 1.84 ms, total: 61.7 ms\n",
            "Wall time: 64.2 ms\n"
          ],
          "name": "stdout"
        }
      ]
    },
    {
      "cell_type": "code",
      "metadata": {
        "colab": {
          "base_uri": "https://localhost:8080/"
        },
        "id": "l7ptL8VCdoVQ",
        "outputId": "e6668b5b-d2dd-4a2d-f7de-a883b7765eb7"
      },
      "source": [
        "%time for _ in range(100): py_array = [x * 2 for x in py_array]"
      ],
      "execution_count": 51,
      "outputs": [
        {
          "output_type": "stream",
          "text": [
            "CPU times: user 9.76 s, sys: 1.22 s, total: 11 s\n",
            "Wall time: 11 s\n"
          ],
          "name": "stdout"
        }
      ]
    },
    {
      "cell_type": "code",
      "metadata": {
        "colab": {
          "base_uri": "https://localhost:8080/"
        },
        "id": "gja0zSiSfM62",
        "outputId": "75b665e4-591a-4714-93a6-7e674aec4e4f"
      },
      "source": [
        "numeros_np = np.arange(10)\n",
        "numeros_py = list(range(10))\n",
        "\n",
        "numeros_np *= 2\n",
        "numeros_py = list(range(10))\n",
        "\n",
        "print(numeros_np)\n",
        "print(numeros_py)\n"
      ],
      "execution_count": 54,
      "outputs": [
        {
          "output_type": "stream",
          "text": [
            "[ 0  2  4  6  8 10 12 14 16 18]\n",
            "[0, 1, 2, 3, 4, 5, 6, 7, 8, 9]\n"
          ],
          "name": "stdout"
        }
      ]
    },
    {
      "cell_type": "code",
      "metadata": {
        "id": "AzsWvKkEgtZu"
      },
      "source": [
        "import python_utils as py"
      ],
      "execution_count": 45,
      "outputs": []
    },
    {
      "cell_type": "code",
      "metadata": {
        "id": "hbjP18LeiiRb"
      },
      "source": [
        "import pydata_google_auth as py"
      ],
      "execution_count": 46,
      "outputs": []
    },
    {
      "cell_type": "code",
      "metadata": {
        "colab": {
          "base_uri": "https://localhost:8080/"
        },
        "id": "V4YB9K_bjjDU",
        "outputId": "955a01f0-5b99-4602-fd39-9f0522a328cf"
      },
      "source": [
        "numeros_np.mean()\n"
      ],
      "execution_count": 55,
      "outputs": [
        {
          "output_type": "execute_result",
          "data": {
            "text/plain": [
              "9.0"
            ]
          },
          "metadata": {
            "tags": []
          },
          "execution_count": 55
        }
      ]
    },
    {
      "cell_type": "code",
      "metadata": {
        "colab": {
          "base_uri": "https://localhost:8080/"
        },
        "id": "YXrawrI-joZt",
        "outputId": "fba861a4-a95f-415f-dcca-d11804177940"
      },
      "source": [
        "np.median(numeros_np)"
      ],
      "execution_count": 59,
      "outputs": [
        {
          "output_type": "execute_result",
          "data": {
            "text/plain": [
              "9.0"
            ]
          },
          "metadata": {
            "tags": []
          },
          "execution_count": 59
        }
      ]
    },
    {
      "cell_type": "code",
      "metadata": {
        "colab": {
          "base_uri": "https://localhost:8080/"
        },
        "id": "wcmFh3CKkP91",
        "outputId": "5b07bccc-7a74-461a-971d-45ff9fb414b4"
      },
      "source": [
        "np.std(np_array)"
      ],
      "execution_count": 60,
      "outputs": [
        {
          "output_type": "execute_result",
          "data": {
            "text/plain": [
              "288675.1345946685"
            ]
          },
          "metadata": {
            "tags": []
          },
          "execution_count": 60
        }
      ]
    },
    {
      "cell_type": "code",
      "metadata": {
        "colab": {
          "base_uri": "https://localhost:8080/"
        },
        "id": "aih9NYEImo5Q",
        "outputId": "bf7a5623-2d90-401c-bcf1-33829d2824dd"
      },
      "source": [
        "from random import randint\n",
        "idades = np.array([ randint(20,60) for _ in range(100)])\n",
        "idades"
      ],
      "execution_count": 64,
      "outputs": [
        {
          "output_type": "execute_result",
          "data": {
            "text/plain": [
              "array([42, 46, 30, 46, 59, 57, 35, 42, 32, 31, 24, 46, 37, 30, 35, 48, 45,\n",
              "       53, 28, 55, 48, 20, 57, 45, 25, 60, 24, 57, 55, 52, 56, 34, 32, 36,\n",
              "       54, 57, 39, 27, 53, 46, 45, 51, 24, 48, 30, 31, 55, 58, 40, 27, 54,\n",
              "       59, 44, 42, 35, 46, 44, 45, 46, 38, 39, 50, 57, 43, 31, 27, 30, 56,\n",
              "       55, 47, 38, 60, 38, 51, 55, 44, 59, 30, 47, 33, 34, 27, 50, 59, 44,\n",
              "       47, 37, 59, 49, 23, 22, 39, 39, 48, 47, 36, 58, 36, 48, 44])"
            ]
          },
          "metadata": {
            "tags": []
          },
          "execution_count": 64
        }
      ]
    },
    {
      "cell_type": "code",
      "metadata": {
        "colab": {
          "base_uri": "https://localhost:8080/"
        },
        "id": "FZxLPrAqnGLK",
        "outputId": "3567d6b2-2240-479b-86fb-4d96c4511b45"
      },
      "source": [
        "cv = np.std(idades) / np.mean(idades)\n",
        "cv\n"
      ],
      "execution_count": 65,
      "outputs": [
        {
          "output_type": "execute_result",
          "data": {
            "text/plain": [
              "0.2524702917026479"
            ]
          },
          "metadata": {
            "tags": []
          },
          "execution_count": 65
        }
      ]
    },
    {
      "cell_type": "code",
      "metadata": {
        "colab": {
          "base_uri": "https://localhost:8080/"
        },
        "id": "cstqO7ugnTya",
        "outputId": "403f74ee-81ee-4dce-f00d-8604ed079f86"
      },
      "source": [
        "  np.mean(idades)"
      ],
      "execution_count": 67,
      "outputs": [
        {
          "output_type": "execute_result",
          "data": {
            "text/plain": [
              "42.96"
            ]
          },
          "metadata": {
            "tags": []
          },
          "execution_count": 67
        }
      ]
    },
    {
      "cell_type": "code",
      "metadata": {
        "colab": {
          "base_uri": "https://localhost:8080/"
        },
        "id": "S20uzELlnhY3",
        "outputId": "2146560e-b9eb-4be5-ceca-f6981d28169e"
      },
      "source": [
        "np.median(idades)"
      ],
      "execution_count": 68,
      "outputs": [
        {
          "output_type": "execute_result",
          "data": {
            "text/plain": [
              "44.5"
            ]
          },
          "metadata": {
            "tags": []
          },
          "execution_count": 68
        }
      ]
    }
  ]
}